{
 "cells": [
  {
   "cell_type": "code",
   "execution_count": 6,
   "metadata": {},
   "outputs": [],
   "source": [
    "import pandas as pd\n",
    "\n",
    "data = pd.read_csv(\"./Data/CLEAN_charity_data.csv\")"
   ]
  },
  {
   "cell_type": "code",
   "execution_count": 7,
   "metadata": {},
   "outputs": [
    {
     "data": {
      "text/html": [
       "<div>\n",
       "<style scoped>\n",
       "    .dataframe tbody tr th:only-of-type {\n",
       "        vertical-align: middle;\n",
       "    }\n",
       "\n",
       "    .dataframe tbody tr th {\n",
       "        vertical-align: top;\n",
       "    }\n",
       "\n",
       "    .dataframe thead th {\n",
       "        text-align: right;\n",
       "    }\n",
       "</style>\n",
       "<table border=\"1\" class=\"dataframe\">\n",
       "  <thead>\n",
       "    <tr style=\"text-align: right;\">\n",
       "      <th></th>\n",
       "      <th>ascore</th>\n",
       "      <th>category</th>\n",
       "      <th>description</th>\n",
       "      <th>ein</th>\n",
       "      <th>tot_exp</th>\n",
       "      <th>admin_exp_p</th>\n",
       "      <th>fund_eff</th>\n",
       "      <th>fund_exp_p</th>\n",
       "      <th>program_exp_p</th>\n",
       "      <th>fscore</th>\n",
       "      <th>...</th>\n",
       "      <th>motto</th>\n",
       "      <th>name</th>\n",
       "      <th>tot_rev</th>\n",
       "      <th>score</th>\n",
       "      <th>state</th>\n",
       "      <th>subcategory</th>\n",
       "      <th>size</th>\n",
       "      <th>program_exp</th>\n",
       "      <th>fund_exp</th>\n",
       "      <th>admin_exp</th>\n",
       "    </tr>\n",
       "  </thead>\n",
       "  <tbody>\n",
       "    <tr>\n",
       "      <th>0</th>\n",
       "      <td>100.0</td>\n",
       "      <td>Environment</td>\n",
       "      <td>Working with Oregonians to enhance our quality...</td>\n",
       "      <td>93-0642086</td>\n",
       "      <td>917313.0</td>\n",
       "      <td>0.101</td>\n",
       "      <td>0.18</td>\n",
       "      <td>0.184</td>\n",
       "      <td>0.714</td>\n",
       "      <td>88.61</td>\n",
       "      <td>...</td>\n",
       "      <td>Great communities. Working lands. Iconic Places.</td>\n",
       "      <td>1000 Friends of Oregon</td>\n",
       "      <td>1022513.0</td>\n",
       "      <td>91.94</td>\n",
       "      <td>OR</td>\n",
       "      <td>Environmental Protection and Conservation</td>\n",
       "      <td>small</td>\n",
       "      <td>654961.482</td>\n",
       "      <td>168785.592</td>\n",
       "      <td>92648.613</td>\n",
       "    </tr>\n",
       "  </tbody>\n",
       "</table>\n",
       "<p>1 rows × 23 columns</p>\n",
       "</div>"
      ],
      "text/plain": [
       "   ascore     category                                        description  \\\n",
       "0   100.0  Environment  Working with Oregonians to enhance our quality...   \n",
       "\n",
       "          ein   tot_exp  admin_exp_p  fund_eff  fund_exp_p  program_exp_p  \\\n",
       "0  93-0642086  917313.0        0.101      0.18       0.184          0.714   \n",
       "\n",
       "   fscore  ...                                             motto  \\\n",
       "0   88.61  ...  Great communities. Working lands. Iconic Places.   \n",
       "\n",
       "                     name    tot_rev  score state  \\\n",
       "0  1000 Friends of Oregon  1022513.0  91.94    OR   \n",
       "\n",
       "                                 subcategory   size program_exp    fund_exp  \\\n",
       "0  Environmental Protection and Conservation  small  654961.482  168785.592   \n",
       "\n",
       "   admin_exp  \n",
       "0  92648.613  \n",
       "\n",
       "[1 rows x 23 columns]"
      ]
     },
     "execution_count": 7,
     "metadata": {},
     "output_type": "execute_result"
    }
   ],
   "source": [
    "data.head(1)"
   ]
  },
  {
   "cell_type": "code",
   "execution_count": null,
   "metadata": {},
   "outputs": [],
   "source": []
  }
 ],
 "metadata": {
  "kernelspec": {
   "display_name": "Python 3",
   "language": "python",
   "name": "python3"
  },
  "language_info": {
   "codemirror_mode": {
    "name": "ipython",
    "version": 3
   },
   "file_extension": ".py",
   "mimetype": "text/x-python",
   "name": "python",
   "nbconvert_exporter": "python",
   "pygments_lexer": "ipython3",
   "version": "3.7.7"
  }
 },
 "nbformat": 4,
 "nbformat_minor": 4
}
