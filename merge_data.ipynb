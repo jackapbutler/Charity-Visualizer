{
 "cells": [
  {
   "cell_type": "code",
   "execution_count": 425,
   "metadata": {},
   "outputs": [],
   "source": [
    "import pandas as pd\n",
    "import numpy as np"
   ]
  },
  {
   "source": [
    "## Charity Regulator Data"
   ],
   "cell_type": "markdown",
   "metadata": {}
  },
  {
   "cell_type": "code",
   "execution_count": 426,
   "metadata": {},
   "outputs": [],
   "source": [
    "ann_reports = pd.read_csv(\"../Charity_Data/annual-reports-15012021.csv\")\n",
    "pub_reg = pd.read_csv(\"../Charity_Data/public-register-15012021.csv\").drop(['Unnamed: 11'], axis=1)\n",
    "\n",
    "all_regulator = ann_reports.merge(pub_reg, on='Registered Charity Number', how='left').drop(['Registered Charity Name_y'], axis=1).rename(columns={\"Registered Charity Name_x\": \"Registered Charity Name\"})"
   ]
  },
  {
   "cell_type": "code",
   "execution_count": 451,
   "metadata": {},
   "outputs": [],
   "source": [
    "def include_missing_purpose(data):\n",
    "    data.loc[(data['Report Activity'].str.contains(\"Religious activities\") | data['Beneficiaries'].str.contains(\"Religious|Religion|Priests\")) & data['Charitable Purpose'].isnull(), \"Charitable Purpose\"] = \"Advancement of religion\"\n",
    "    \n",
    "    data.loc[data['Report Activity'].str.contains(\"Promotion of community\") & data['Charitable Purpose'].isnull(), \"Charitable Purpose\"] = \"Advancement of community development, including rural or urban regeneration\"\n",
    "    \n",
    "    data.loc[data['Report Activity'].str.contains(\"Promotion of health\") & data['Charitable Purpose'].isnull(), \"Charitable Purpose\"] = \"Promotion of health, including the prevention or relief of sickness, disease or human suffering\"\n",
    "    \n",
    "    data.loc[data['Report Activity'].str.contains(\"Advancement of Arts|Cultural promotion\") & data['Charitable Purpose'].isnull(), \"Charitable Purpose\"] = \"Advancement of the arts, culture, heritage or sciences\"\n",
    "    \n",
    "    data.loc[data['Report Activity'].str.contains(\"Animal welfare\") & data['Charitable Purpose'].isnull(), \"Charitable Purpose\"] = \"Prevention or relief of suffering of animals\"\n",
    "    \n",
    "    data.loc[(data['Report Activity'].str.contains(\"Welfare/benevolent|Provision of accommodation/housing|Welfare of those in need|Disability support\")) & data['Charitable Purpose'].isnull(), \"Charitable Purpose\"] = \"Advancement of community welfare including the relief of those in need by reason of youth, age, ill-health, or disability\"\n",
    "    \n",
    "    data.loc[(data['Report Activity'].str.contains(\"Education|Research/evaluation|Playgroup/afterschool\") | data['Beneficiaries'].str.contains(\"University|School|College\")) & data['Charitable Purpose'].isnull(), \"Charitable Purpose\"] = \"Advancement of education\"\n",
    "\n",
    "    data.loc[(data['Report Activity'].str.contains(\"Relief of poverty|Overseas aid/famine relief\")) & data['Charitable Purpose'].isnull(), \"Charitable Purpose\"] = \"Relief of poverty or economic hardship\"\n",
    "    \n",
    "    if(len(data[data['Charitable Purpose'].isna()]) > 0):\n",
    "        print(\"These are the rows without a recoverable match\")\n",
    "        print(data[data['Charitable Purpose'].isna()])\n",
    "    else:\n",
    "        print(\"All rows were successfully processed and now have long-form charitable purposes.\")\n",
    "\n",
    "def condense_purpose(col):\n",
    "    names = {'Advancement of education': 'Education', ('Promotion of religious or racial harmony and harmonious community relations', 'Advancement of religion'): 'Religion', ('Advancement of community development', 'Other purpose that is of benefit to the community', 'Other purpose that is of benefit to the community;'): 'Community', 'Advancement of the arts, culture, heritage or sciences': 'Arts / Culture', ('Other purpose that is of benefit to the community'): 'Community', 'Prevention or relief of suffering of animals': 'Animals / Environment', 'Promotion of health, including the prevention or relief of sickness, disease or human suffering': 'Health'}\n",
    "\n",
    "    col.map(names)"
   ]
  },
  {
   "cell_type": "code",
   "execution_count": 452,
   "metadata": {
    "tags": []
   },
   "outputs": [
    {
     "output_type": "stream",
     "name": "stdout",
     "text": [
      "All rows were successfully processed and now have long-form charitable purposes.\n"
     ]
    },
    {
     "output_type": "execute_result",
     "data": {
      "text/plain": [
       "0        None\n",
       "1        None\n",
       "2        None\n",
       "3        None\n",
       "4        None\n",
       "         ... \n",
       "36328    None\n",
       "36329    None\n",
       "36330    None\n",
       "36331    None\n",
       "36332    None\n",
       "Name: Purpose, Length: 36333, dtype: object"
      ]
     },
     "metadata": {},
     "execution_count": 452
    }
   ],
   "source": [
    "include_missing_purpose(all_regulator)\n",
    "all_regulator['Purpose'] = condense_purpose(all_regulator['Charitable Purpose'].str.split(':').str[0])\n",
    "all_regulator['Purpose']\n",
    "#all_regulator.to_csv('../Charity_Data/combined_regulator_data.csv', index=False)"
   ]
  },
  {
   "cell_type": "code",
   "execution_count": null,
   "metadata": {},
   "outputs": [],
   "source": []
  }
 ],
 "metadata": {
  "kernelspec": {
   "display_name": "Python 3",
   "language": "python",
   "name": "python3"
  },
  "language_info": {
   "codemirror_mode": {
    "name": "ipython",
    "version": 3
   },
   "file_extension": ".py",
   "mimetype": "text/x-python",
   "name": "python",
   "nbconvert_exporter": "python",
   "pygments_lexer": "ipython3",
   "version": "3.7.7-final"
  }
 },
 "nbformat": 4,
 "nbformat_minor": 4
}