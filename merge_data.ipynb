{
 "cells": [
  {
   "cell_type": "code",
   "execution_count": 80,
   "metadata": {},
   "outputs": [],
   "source": [
    "import pandas as pd"
   ]
  },
  {
   "source": [
    "## Charity Regulator Data"
   ],
   "cell_type": "markdown",
   "metadata": {}
  },
  {
   "cell_type": "code",
   "execution_count": 111,
   "metadata": {},
   "outputs": [],
   "source": [
    "ann_reports = pd.read_csv(\"../Charity_Data/annual-reports-15012021.csv\")\n",
    "pub_reg = pd.read_csv(\"../Charity_Data/public-register-15012021.csv\").drop(['Unnamed: 11'], axis=1)\n",
    "\n",
    "all_regulator = ann_reports.merge(pub_reg, on='Registered Charity Number', how='left').drop(['Registered Charity Name_y'], axis=1).rename(columns={\"Registered Charity Name_x\": \"Registered Charity Name\"})"
   ]
  },
  {
   "cell_type": "code",
   "execution_count": 112,
   "metadata": {},
   "outputs": [],
   "source": [
    "all_regulator.loc[(all_regulator['Report Activity'].str.contains(\"Religious activities\") | all_regulator['Beneficiaries'].str.contains(\"Religious|Religion|Priests\")) & all_regulator['Charitable Purpose'].isnull(), \"Charitable Purpose\"] = \"Advancement of religion\"\n",
    "\n",
    "all_regulator.loc[all_regulator['Report Activity'].str.contains(\"Promotion of community\") & all_regulator['Charitable Purpose'].isnull(), \"Charitable Purpose\"] = \"Advancement of community development, including rural or urban regeneration\"\n",
    "\n",
    "all_regulator.loc[all_regulator['Report Activity'].str.contains(\"Promotion of health|Relief of poverty\") & all_regulator['Charitable Purpose'].isnull(), \"Charitable Purpose\"] = \"Promotion of health, including the prevention or relief of sickness, disease or human suffering\"\n",
    "\n",
    "all_regulator.loc[all_regulator['Report Activity'].str.contains(\"Advancement of Arts\") & all_regulator['Charitable Purpose'].isnull(), \"Charitable Purpose\"] = \"Advancement of the arts, culture, heritage or sciences\"\n",
    "\n",
    "all_regulator.loc[all_regulator['Report Activity'].str.contains(\"Animal welfare\") & all_regulator['Charitable Purpose'].isnull(), \"Charitable Purpose\"] = \"Prevention or relief of suffering of animals\"\n",
    "\n",
    "all_regulator.loc[(all_regulator['Report Activity'].str.contains(\"Welfare/benevolent|Provision of accommodation/housing|Welfare of those in need|Disability support\")) & all_regulator['Charitable Purpose'].isnull(), \"Charitable Purpose\"] = \"Advancement of community welfare including the relief of those in need by reason of youth, age, ill-health, or disability\"\n",
    "\n",
    "\n",
    "all_regulator.loc[(all_regulator['Report Activity'].str.contains(\"Education|Research/evaluation|Playgroup/afterschool\") | all_regulator['Beneficiaries'].str.contains(\"University|School|College\")) & all_regulator['Charitable Purpose'].isnull(), \"Charitable Purpose\"] = \"Advancement of education\""
   ]
  },
  {
   "cell_type": "code",
   "execution_count": 120,
   "metadata": {},
   "outputs": [
    {
     "output_type": "execute_result",
     "data": {
      "text/plain": [
       "Registered Charity Number                                         36339\n",
       "Registered Charity Name                                           36339\n",
       "Report Size                                                       36339\n",
       "Period Start Date                                                 36339\n",
       "Period End Date                                                   36339\n",
       "Report Activity                                                   36339\n",
       "Activity Description                                              36335\n",
       "Beneficiaries                                                     36339\n",
       "Financial: Income from Central Government or Local Authorities     8164\n",
       "Financial: Income from other public bodies                         4286\n",
       "Financial: Income from philantrophic organisations                 1554\n",
       "Financial: Income from donations                                   9523\n",
       "Financial: Income from trading and commercial activities           5973\n",
       "Financial: Income from other sources                               8558\n",
       "Financial: Gross Income                                           31651\n",
       "Financial: Gross Expenditure                                      31815\n",
       "Financial: Gross Income (Schools)                                  3777\n",
       "Financial: Gross Expenditure (Schools)                             3777\n",
       "Number of Volunteers                                              36339\n",
       "Status                                                            36339\n",
       "Also Known As                                                     36339\n",
       "Primary Address                                                   36335\n",
       "Governing Form                                                    36339\n",
       "CHY Number                                                        31944\n",
       "CRO Number                                                        23859\n",
       "Country Established                                               36339\n",
       "Charitable Purpose                                                36333\n",
       "Charitable Objects                                                36021\n",
       "dtype: int64"
      ]
     },
     "metadata": {},
     "execution_count": 120
    }
   ],
   "source": [
    "all_regulator.count()"
   ]
  },
  {
   "cell_type": "code",
   "execution_count": null,
   "metadata": {},
   "outputs": [],
   "source": []
  },
  {
   "cell_type": "code",
   "execution_count": null,
   "metadata": {},
   "outputs": [],
   "source": []
  }
 ],
 "metadata": {
  "kernelspec": {
   "display_name": "Python 3",
   "language": "python",
   "name": "python3"
  },
  "language_info": {
   "codemirror_mode": {
    "name": "ipython",
    "version": 3
   },
   "file_extension": ".py",
   "mimetype": "text/x-python",
   "name": "python",
   "nbconvert_exporter": "python",
   "pygments_lexer": "ipython3",
   "version": "3.7.7-final"
  }
 },
 "nbformat": 4,
 "nbformat_minor": 4
}