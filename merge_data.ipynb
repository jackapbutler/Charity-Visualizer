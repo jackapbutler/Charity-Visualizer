{
 "cells": [
  {
   "cell_type": "code",
   "execution_count": 127,
   "metadata": {},
   "outputs": [],
   "source": [
    "import pandas as pd\n",
    "import numpy as np"
   ]
  },
  {
   "source": [
    "## Charity Regulator Data"
   ],
   "cell_type": "markdown",
   "metadata": {}
  },
  {
   "cell_type": "code",
   "execution_count": 128,
   "metadata": {},
   "outputs": [],
   "source": [
    "ann_reports = pd.read_csv(\"../Charity_Data/annual-reports-15012021.csv\")\n",
    "pub_reg = pd.read_csv(\"../Charity_Data/public-register-15012021.csv\").drop(['Unnamed: 11'], axis=1)"
   ]
  },
  {
   "cell_type": "code",
   "execution_count": 139,
   "metadata": {},
   "outputs": [],
   "source": [
    "def merge_regulator_data(annual_reps, pub_registry):\n",
    "    all_regulator = annual_reps.merge(pub_registry, on='Registered Charity Number', how='left').drop(['Registered Charity Name_y'], axis=1).rename(columns={\"Registered Charity Name_x\": \"Registered Charity Name\"})\n",
    "    print(\"MERGING APPEARS TO HAVE GONE SMOOTHLY.\")\n",
    "\n",
    "def include_missing_purpose(data):\n",
    "    data.loc[(data['Report Activity'].str.contains(\"Religious activities\") | data['Beneficiaries'].str.contains(\"Religious|Religion|Priests\")) & data['Charitable Purpose'].isnull(), \"Charitable Purpose\"] = \"Advancement of religion\"\n",
    "    \n",
    "    data.loc[data['Report Activity'].str.contains(\"Promotion of community\") & data['Charitable Purpose'].isnull(), \"Charitable Purpose\"] = \"Advancement of community development, including rural or urban regeneration\"\n",
    "    \n",
    "    data.loc[data['Report Activity'].str.contains(\"Promotion of health\") & data['Charitable Purpose'].isnull(), \"Charitable Purpose\"] = \"Promotion of health, including the prevention or relief of sickness, disease or human suffering\"\n",
    "    \n",
    "    data.loc[data['Report Activity'].str.contains(\"Advancement of Arts|Cultural promotion\") & data['Charitable Purpose'].isnull(), \"Charitable Purpose\"] = \"Advancement of the arts, culture, heritage or sciences\"\n",
    "    \n",
    "    data.loc[data['Report Activity'].str.contains(\"Animal welfare\") & data['Charitable Purpose'].isnull(), \"Charitable Purpose\"] = \"Prevention or relief of suffering of animals\"\n",
    "    \n",
    "    data.loc[(data['Report Activity'].str.contains(\"Welfare/benevolent|Provision of accommodation/housing|Welfare of those in need|Disability support\")) & data['Charitable Purpose'].isnull(), \"Charitable Purpose\"] = \"Advancement of community welfare including the relief of those in need by reason of youth, age, ill-health, or disability\"\n",
    "    \n",
    "    data.loc[(data['Report Activity'].str.contains(\"Education|Research/evaluation|Playgroup/afterschool\") | data['Beneficiaries'].str.contains(\"University|School|College\")) & data['Charitable Purpose'].isnull(), \"Charitable Purpose\"] = \"Advancement of education\"\n",
    "\n",
    "    data.loc[(data['Report Activity'].str.contains(\"Relief of poverty|Overseas aid/famine relief\")) & data['Charitable Purpose'].isnull(), \"Charitable Purpose\"] = \"Relief of poverty or economic hardship\"\n",
    "\n",
    "    if(len(data[data['Charitable Purpose'].isna()]) > 0):\n",
    "        print(\"INCLUDE MISSING PURPOSE FAILED\")\n",
    "        print(\"These are the rows without a recoverable match\")\n",
    "        print(data[data['Charitable Purpose'].isna()])\n",
    "        print(\" \")\n",
    "    else:\n",
    "        print(\"INCLUDE MISSING PURPOSE SUCCESS\")\n",
    "        print(\" \")\n",
    "\n",
    "def condense_purpose(data):\n",
    "    \n",
    "    data['Purpose'] = \"Undefined\"\n",
    "    col = data['Charitable Purpose'].str.split(':').str[0]\n",
    "\n",
    "    edu_vals = ('Advancement of education', 'aa')\n",
    "    rel_vals = ('Promotion of religious or racial harmony and harmonious community relations', 'Advancement of religion')\n",
    "    com_vals = ('Advancement of community development', 'Other purpose that is of benefit to the community')\n",
    "    arts_vals = ('Advancement of the arts, culture, heritage or sciences', 'aa')\n",
    "    ani_env_vals = ('Prevention or relief of suffering of animals', 'aa')\n",
    "    health_vals = ('Promotion of health, including the prevention or relief of sickness, disease or human suffering', 'aa')\n",
    "    \n",
    "    data.loc[(col.isin(edu_vals), 'Purpose')] = \"Education\"\n",
    "    data.loc[(col.isin(rel_vals), 'Purpose')] = \"Religion\"\n",
    "    data.loc[(col.isin(com_vals), 'Purpose')] = \"Community\"\n",
    "    data.loc[(col.isin(arts_vals), 'Purpose')] = \"Arts / Culture / Science\"\n",
    "    data.loc[(col.isin(ani_env_vals), 'Purpose')] = \"Animals / Environment\"\n",
    "    data.loc[(col.isin(health_vals), 'Purpose')] = \"Health\"\n",
    "\n",
    "    num_nas = len(data[data['Purpose']==\"Undefined\"])\n",
    "    if(num_nas > 0):\n",
    "        print(\"CONDENSE PURPOSE FAILED\")\n",
    "        print(\"There are \"+str(num_nas)+\" rows without a condensable purpose, here are the long-form purposes:\")\n",
    "        print(data[data['Purpose']==\"Undefined\"]['Charitable Purpose'])\n",
    "        print(\" \")\n",
    "    else:\n",
    "        print(\"CONDENSE PURPOSE SUCCESS\")\n",
    "        print(\" \")"
   ]
  },
  {
   "cell_type": "code",
   "execution_count": 140,
   "metadata": {
    "tags": []
   },
   "outputs": [
    {
     "output_type": "stream",
     "name": "stdout",
     "text": [
      "MERGING APPEARS TO HAVE GONE SMOOTHLY.\n",
      "INCLUDE MISSING PURPOSE SUCCESS\n",
      " \n",
      "CONDENSE PURPOSE FAILED\n",
      "There are 24978 rows without a condensable purpose, here are the long-form purposes:\n",
      "38       Relief of poverty or economic hardship; Advanc...\n",
      "39       Relief of poverty or economic hardship; Advanc...\n",
      "40       Relief of poverty or economic hardship; Advanc...\n",
      "41       Relief of poverty or economic hardship; Advanc...\n",
      "42       Relief of poverty or economic hardship; Advanc...\n",
      "                               ...                        \n",
      "36327    Other purpose that is of benefit to the commun...\n",
      "36328    Other purpose that is of benefit to the commun...\n",
      "36329    Other purpose that is of benefit to the commun...\n",
      "36330    Other purpose that is of benefit to the commun...\n",
      "36331    Other purpose that is of benefit to the commun...\n",
      "Name: Charitable Purpose, Length: 24978, dtype: object\n",
      " \n"
     ]
    }
   ],
   "source": [
    "merge_regulator_data(ann_reports, pub_reg)\n",
    "include_missing_purpose(all_regulator)\n",
    "condense_purpose(all_regulator)\n",
    "\n",
    "#all_regulator.to_csv('../Charity_Data/combined_regulator_data.csv', index=False)"
   ]
  },
  {
   "cell_type": "code",
   "execution_count": null,
   "metadata": {},
   "outputs": [],
   "source": []
  }
 ],
 "metadata": {
  "kernelspec": {
   "display_name": "Python 3",
   "language": "python",
   "name": "python3"
  },
  "language_info": {
   "codemirror_mode": {
    "name": "ipython",
    "version": 3
   },
   "file_extension": ".py",
   "mimetype": "text/x-python",
   "name": "python",
   "nbconvert_exporter": "python",
   "pygments_lexer": "ipython3",
   "version": "3.7.7-final"
  }
 },
 "nbformat": 4,
 "nbformat_minor": 4
}