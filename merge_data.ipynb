{
 "cells": [
  {
   "cell_type": "code",
   "execution_count": 139,
   "metadata": {},
   "outputs": [],
   "source": [
    "import pandas as pd\n",
    "import numpy as np\n",
    "import json\n",
    "from geopy.geocoders import Nominatim\n",
    "\n",
    "benf_id = 'benefacts_2021012'\n",
    "ann_id = 'annual-reports-15012021'\n",
    "pub_id = 'public-register-15012021'\n",
    "\n",
    "ann_reports = pd.read_csv('./Data/Raw/'+ann_id+'.csv')\n",
    "pub_reg = pd.read_csv('./Data/Raw/'+pub_id+'.csv').drop(['Unnamed: 11'], axis=1)\n",
    "\n",
    "benefacts = pd.read_csv('./Data/Raw/'+benf_id+'.csv').drop_duplicates(subset=\"CRA\", keep='first')[['CRA', 'County', 'Registered Address']]\n",
    "benefacts.columns = ['Registered Charity Number', 'Benefact_county', 'Benefact_address']"
   ]
  },
  {
   "cell_type": "code",
   "execution_count": 140,
   "metadata": {},
   "outputs": [],
   "source": [
    "def merge_datasets(annual_reports, public_registry):\n",
    "\n",
    "    global all_regulator \n",
    "    all_regulator = annual_reports.merge(public_registry, on='Registered Charity Number', how='left').drop(['Registered Charity Name_y'], axis=1).rename(columns={\"Registered Charity Name_x\": \"Registered Charity Name\"}).reset_index(drop=True)\n",
    "    print(\"MERGE DATASET SUCCESS\")\n",
    "    print(\".............\")"
   ]
  },
  {
   "cell_type": "code",
   "execution_count": 141,
   "metadata": {},
   "outputs": [],
   "source": [
    "def include_missing_purpose(data):\n",
    "    data.loc[(data['Report Activity'].str.contains(\"Religious activities\") | data['Beneficiaries'].str.contains(\"Religious|Religion|Priests\")) & data['Charitable Purpose'].isnull(), \"Charitable Purpose\"] = \"Advancement of religion\"\n",
    "    \n",
    "    data.loc[data['Report Activity'].str.contains(\"Promotion of community\") & data['Charitable Purpose'].isnull(), \"Charitable Purpose\"] = \"Advancement of community development, including rural or urban regeneration\"\n",
    "    \n",
    "    data.loc[data['Report Activity'].str.contains(\"Promotion of health\") & data['Charitable Purpose'].isnull(), \"Charitable Purpose\"] = \"Promotion of health, including the prevention or relief of sickness, disease or human suffering\"\n",
    "    \n",
    "    data.loc[data['Report Activity'].str.contains(\"Advancement of Arts|Cultural promotion\") & data['Charitable Purpose'].isnull(), \"Charitable Purpose\"] = \"Advancement of the arts, culture, heritage or sciences\"\n",
    "    \n",
    "    data.loc[data['Report Activity'].str.contains(\"Animal welfare\") & data['Charitable Purpose'].isnull(), \"Charitable Purpose\"] = \"Prevention or relief of suffering of animals\"\n",
    "    \n",
    "    data.loc[(data['Report Activity'].str.contains(\"Welfare/benevolent|Provision of accommodation/housing|Welfare of those in need|Disability support\")) & data['Charitable Purpose'].isnull(), \"Charitable Purpose\"] = \"Advancement of community welfare including the relief of those in need by reason of youth, age, ill-health, or disability\"\n",
    "    \n",
    "    data.loc[(data['Report Activity'].str.contains(\"Education|Research/evaluation|Playgroup/afterschool\") | data['Beneficiaries'].str.contains(\"University|School|College\")) & data['Charitable Purpose'].isnull(), \"Charitable Purpose\"] = \"Advancement of education\"\n",
    "\n",
    "    data.loc[(data['Report Activity'].str.contains(\"Relief of poverty|Overseas aid/famine relief\")) & data['Charitable Purpose'].isnull(), \"Charitable Purpose\"] = \"Relief of poverty or economic hardship\"\n",
    "\n",
    "    if(len(data[data['Charitable Purpose'].isna()]) > 0):\n",
    "        print(\"INCLUDE MISSING PURPOSE FAILED\")\n",
    "        print(\"These are the rows without a recoverable match\")\n",
    "        print(data[data['Charitable Purpose'].isna()])\n",
    "        print(\".............\")\n",
    "    else:\n",
    "        print(\"INCLUDE MISSING PURPOSE SUCCESS\")\n",
    "        print(\".............\")"
   ]
  },
  {
   "cell_type": "code",
   "execution_count": 142,
   "metadata": {},
   "outputs": [],
   "source": [
    "def condense_purpose(data):\n",
    "    \n",
    "    split_purposes = data['Charitable Purpose'].str.split(';', expand=True).fillna('')\n",
    "    num_cols = len(split_purposes.columns)\n",
    "\n",
    "    edu_vals = ('Advancement of education', ' Advancement of education')\n",
    "    com_vals = ('Advancement of community development', ' Advancement of community development', ' Other purpose that is of benefit to the community', 'Other purpose that is of benefit to the community', 'Advancement of community welfare including the relief of those in need by reason of youth, age, ill-health, or disability', ' Advancement of community welfare including the relief of those in need by reason of youth, age, ill-health, or disability', 'Advancement of community development, including rural or urban regeneration', ' Advancement of community development, including rural or urban regeneration')\n",
    "    ani_env_vals = ('Prevention or relief of suffering of animals', ' Prevention or relief of suffering of animals', 'Advancement of environmental sustainability', ' Advancement of environmental sustainability', 'Protection of the natural environment', ' Protection of the natural environment')\n",
    "    arts_vals = ('Advancement of the arts, culture, heritage or sciences', ' Advancement of the arts, culture, heritage or sciences')\n",
    "    prop_vals = (' Advancement of the efficient and effective use of the property of charitable organisations', 'Advancement of the efficient and effective use of the property of charitable organisations')\n",
    "    conf_vals = ('Advancement of conflict resolution or reconciliation', ' Advancement of conflict resolution or reconciliation')\n",
    "    rel_vals = (' Advancement of religion', 'Advancement of religion')\n",
    "    soc_vals = ('Integration of those who are disadvantaged, and the promotion of their full participation, in society', ' Integration of those who are disadvantaged, and the promotion of their full participation, in society')\n",
    "    civic_vals = ('Promotion of civic responsibility or voluntary work', ' Promotion of civic responsibility or voluntary work')\n",
    "    health_vals = ('Promotion of health, including the prevention or relief of sickness, disease or human suffering', ' Promotion of health, including the prevention or relief of sickness, disease or human suffering')\n",
    "    racism_vals = (' Promotion of religious or racial harmony and harmonious community relations', 'Promotion of religious or racial harmony and harmonious community relations')\n",
    "    pov_vals = ('Relief of poverty or economic hardship', ' Relief of poverty or economic hardship')\n",
    "    \n",
    "    for i in range(0, num_cols):\n",
    "        indexed_col = split_purposes[i]\n",
    "\n",
    "        indexed_col[indexed_col.isin(edu_vals)] = \"Education\"\n",
    "        indexed_col[indexed_col.isin(com_vals)] = \"Community\"\n",
    "        indexed_col[indexed_col.isin(ani_env_vals)] = \"Animals / Environment\"\n",
    "        indexed_col[indexed_col.isin(arts_vals)] = \"Arts\"\n",
    "        indexed_col[indexed_col.isin(prop_vals)] = \"Property\"\n",
    "        indexed_col[indexed_col.isin(conf_vals)] = \"Conflict\"\n",
    "        indexed_col[indexed_col.isin(rel_vals)] = \"Religion\"\n",
    "        indexed_col[indexed_col.isin(soc_vals)] = \"Society\"\n",
    "        indexed_col[indexed_col.isin(civic_vals)] = \"Civic Duty\"\n",
    "        indexed_col[indexed_col.isin(health_vals)] = \"Health\"    \n",
    "        indexed_col[indexed_col.isin(racism_vals)] = \"Racism\"\n",
    "        indexed_col[indexed_col.isin(pov_vals)] = \"Poverty\"\n",
    "\n",
    "    data['Purpose'] = split_purposes.apply(' '.join, axis=1)\n",
    "\n",
    "    options = 'Education|Community|Animals / Environment|Arts|Property|Conflict|Religion|Society|Civic Duty|Health|Racism|Poverty'\n",
    "    num_matches = len(data['Purpose'].str.contains(options).value_counts())\n",
    "    num_failed = len(data)-num_matches\n",
    "\n",
    "    if(num_matches > 1):\n",
    "        print(\"CONDENSE PURPOSE FAILED\") \n",
    "        print(\"There are \"+str(num_failed)+\" rows without a condensable purpose, here are the long-form purposes:\")\n",
    "        print(data[~data['Purpose'].str.contains(options)]['Purpose'])\n",
    "        print(\".............\")\n",
    "    else:\n",
    "        print(\"CONDENSE PURPOSE SUCCESS\")\n",
    "        print(\".............\")"
   ]
  },
  {
   "cell_type": "code",
   "execution_count": 143,
   "metadata": {},
   "outputs": [],
   "source": [
    "def split_slim_datasets(data):\n",
    "    data['Registered Charity Number'] = data['Registered Charity Number'].apply(str)\n",
    "    \n",
    "    fin_cols = ['Registered Charity Number', 'Financial: Gross Income', 'Financial: Gross Expenditure']\n",
    "    gen_cols = ['Registered Charity Number', 'Registered Charity Name', 'Report Size',\n",
    "       'Period Start Date', 'Period End Date', 'Activity Description', 'Number of Volunteers', 'Status', 'Purpose']\n",
    "\n",
    "    global fin_data \n",
    "    global gen_data\n",
    "    global big_dataset\n",
    "    \n",
    "    fin_data = data[fin_cols].reset_index(drop=True).dropna(subset=['Financial: Gross Income', 'Financial: Gross Expenditure'])\n",
    "    fin_data['Financial: Gross Income'] = fin_data['Financial: Gross Income'].str[1:].str.replace(',','')\n",
    "    fin_data['Financial: Gross Expenditure'] = fin_data['Financial: Gross Expenditure'].str[1:].str.replace(',','')\n",
    "    fin_data = fin_data.astype({'Financial: Gross Income': 'int64', 'Financial: Gross Expenditure': 'int64'})\n",
    "    fin_data = fin_data.groupby('Registered Charity Number').mean()\n",
    "    \n",
    "    gen_data = data[gen_cols].drop_duplicates(subset='Registered Charity Number', keep='first').reset_index(drop=True).merge(benefacts, on='Registered Charity Number', how='left')\n",
    "    \n",
    "    big_dataset = gen_data.merge(fin_data, on='Registered Charity Number', how='left')"
   ]
  },
  {
   "cell_type": "code",
   "execution_count": 144,
   "metadata": {},
   "outputs": [],
   "source": [
    "def find_coordinates(gen_data):\n",
    "    coords = pd.read_csv('./Data/Raw/counties_stats.csv')\n",
    "    gen_data = gen_data.merge(coords, left_on='Benefact_county', right_on='county', suffixes=('', '_y')).drop('county', axis=1)\n",
    "    print(\"CO-ORDINATES MERGED SUCCESSFULLY\")\n",
    "    print(\".............\")"
   ]
  },
  {
   "cell_type": "code",
   "execution_count": 145,
   "metadata": {},
   "outputs": [],
   "source": [
    "def save_datasets():\n",
    "    gen_data.to_csv('./Data/CleanCSV/general_data.csv', index=False)\n",
    "    fin_data.to_csv('./Data/CleanCSV/fin_data.csv', index=False)\n",
    "    big_dataset.to_csv('./Data/CleanCSV/big_dataset.csv', index=False)\n",
    "    print(\"SUCCESSFULLY SAVED CSV FILES TO LOCAL DRIVE\")"
   ]
  },
  {
   "cell_type": "code",
   "execution_count": 146,
   "metadata": {
    "tags": []
   },
   "outputs": [
    {
     "name": "stdout",
     "output_type": "stream",
     "text": [
      "MERGE DATASET SUCCESS\n",
      ".............\n",
      "INCLUDE MISSING PURPOSE SUCCESS\n",
      ".............\n",
      "CONDENSE PURPOSE SUCCESS\n",
      ".............\n",
      "CO-ORDINATES MERGED SUCCESSFULLY\n",
      ".............\n",
      "SUCCESSFULLY SAVED CSV FILES TO LOCAL DRIVE\n"
     ]
    }
   ],
   "source": [
    "merge_datasets(ann_reports, pub_reg)\n",
    "include_missing_purpose(all_regulator)\n",
    "condense_purpose(all_regulator)\n",
    "split_slim_datasets(all_regulator)\n",
    "find_coordinates(gen_data)\n",
    "save_datasets()"
   ]
  },
  {
   "cell_type": "code",
   "execution_count": null,
   "metadata": {},
   "outputs": [],
   "source": []
  }
 ],
 "metadata": {
  "kernelspec": {
   "display_name": "Python 3",
   "language": "python",
   "name": "python3"
  },
  "language_info": {
   "codemirror_mode": {
    "name": "ipython",
    "version": 3
   },
   "file_extension": ".py",
   "mimetype": "text/x-python",
   "name": "python",
   "nbconvert_exporter": "python",
   "pygments_lexer": "ipython3",
   "version": "3.7.7"
  }
 },
 "nbformat": 4,
 "nbformat_minor": 4
}
