{
 "cells": [
  {
   "cell_type": "code",
   "execution_count": 1,
   "metadata": {},
   "outputs": [],
   "source": [
    "import pandas as pd"
   ]
  },
  {
   "source": [
    "## Charity Regulator Data"
   ],
   "cell_type": "markdown",
   "metadata": {}
  },
  {
   "cell_type": "code",
   "execution_count": 4,
   "metadata": {},
   "outputs": [
    {
     "output_type": "execute_result",
     "data": {
      "text/plain": [
       "   Registered Charity Number Registered Charity Name  \\\n",
       "0                   20000028  Trinity College Dublin   \n",
       "\n",
       "                Report Size Period Start Date Period End Date  \\\n",
       "0  Large (more than EUR100k        01/10/2014      30/09/2015   \n",
       "\n",
       "                                     Report Activity  \\\n",
       "0  Advice/advocacy/information; Education/trainin...   \n",
       "\n",
       "                                Activity Description  \\\n",
       "0  Trinity College is a community of scholars,mad...   \n",
       "\n",
       "                                       Beneficiaries  \\\n",
       "0  Adult training; Arts &amp; culture; Community ...   \n",
       "\n",
       "  Financial: Income from Central Government or Local Authorities  \\\n",
       "0                                                NaN               \n",
       "\n",
       "  Financial: Income from other public bodies  \\\n",
       "0                                        NaN   \n",
       "\n",
       "  Financial: Income from philantrophic organisations  \\\n",
       "0                                                NaN   \n",
       "\n",
       "  Financial: Income from donations  \\\n",
       "0                              NaN   \n",
       "\n",
       "  Financial: Income from trading and commercial activities  \\\n",
       "0                                                NaN         \n",
       "\n",
       "  Financial: Income from other sources Financial: Gross Income  \\\n",
       "0                                  NaN                €317,574   \n",
       "\n",
       "  Financial: Gross Expenditure Financial: Gross Income (Schools)  \\\n",
       "0                 €344,238,000                               NaN   \n",
       "\n",
       "  Financial: Gross Expenditure (Schools) Number of Volunteers  \n",
       "0                                    NaN                 NONE  "
      ],
      "text/html": "<div>\n<style scoped>\n    .dataframe tbody tr th:only-of-type {\n        vertical-align: middle;\n    }\n\n    .dataframe tbody tr th {\n        vertical-align: top;\n    }\n\n    .dataframe thead th {\n        text-align: right;\n    }\n</style>\n<table border=\"1\" class=\"dataframe\">\n  <thead>\n    <tr style=\"text-align: right;\">\n      <th></th>\n      <th>Registered Charity Number</th>\n      <th>Registered Charity Name</th>\n      <th>Report Size</th>\n      <th>Period Start Date</th>\n      <th>Period End Date</th>\n      <th>Report Activity</th>\n      <th>Activity Description</th>\n      <th>Beneficiaries</th>\n      <th>Financial: Income from Central Government or Local Authorities</th>\n      <th>Financial: Income from other public bodies</th>\n      <th>Financial: Income from philantrophic organisations</th>\n      <th>Financial: Income from donations</th>\n      <th>Financial: Income from trading and commercial activities</th>\n      <th>Financial: Income from other sources</th>\n      <th>Financial: Gross Income</th>\n      <th>Financial: Gross Expenditure</th>\n      <th>Financial: Gross Income (Schools)</th>\n      <th>Financial: Gross Expenditure (Schools)</th>\n      <th>Number of Volunteers</th>\n    </tr>\n  </thead>\n  <tbody>\n    <tr>\n      <th>0</th>\n      <td>20000028</td>\n      <td>Trinity College Dublin</td>\n      <td>Large (more than EUR100k</td>\n      <td>01/10/2014</td>\n      <td>30/09/2015</td>\n      <td>Advice/advocacy/information; Education/trainin...</td>\n      <td>Trinity College is a community of scholars,mad...</td>\n      <td>Adult training; Arts &amp;amp; culture; Community ...</td>\n      <td>NaN</td>\n      <td>NaN</td>\n      <td>NaN</td>\n      <td>NaN</td>\n      <td>NaN</td>\n      <td>NaN</td>\n      <td>€317,574</td>\n      <td>€344,238,000</td>\n      <td>NaN</td>\n      <td>NaN</td>\n      <td>NONE</td>\n    </tr>\n  </tbody>\n</table>\n</div>"
     },
     "metadata": {},
     "execution_count": 4
    }
   ],
   "source": [
    "annual_reports = pd.read_csv(\"../Charity_Data/annual-reports-15012021.csv\")\n",
    "annual_reports.head(1)"
   ]
  },
  {
   "cell_type": "code",
   "execution_count": 5,
   "metadata": {},
   "outputs": [
    {
     "output_type": "execute_result",
     "data": {
      "text/plain": [
       "   Registered Charity Number   Registered Charity Name  \\\n",
       "0                   20000011  Linden Convalescent Home   \n",
       "\n",
       "                        Status             Also Known As  \\\n",
       "0  Deregistered S40 by Revenue  Linden Convalescent Home   \n",
       "\n",
       "                                     Primary Address Governing Form  \\\n",
       "0  Linden Conv Home, Stillorgan, Co. Dublin, Ireland          Other   \n",
       "\n",
       "  CHY Number CRO Number Country Established       Charitable Purpose  \\\n",
       "0          4        NaN             Ireland  Advancement of religion   \n",
       "\n",
       "  Charitable Objects  Unnamed: 11  \n",
       "0                NaN          NaN  "
      ],
      "text/html": "<div>\n<style scoped>\n    .dataframe tbody tr th:only-of-type {\n        vertical-align: middle;\n    }\n\n    .dataframe tbody tr th {\n        vertical-align: top;\n    }\n\n    .dataframe thead th {\n        text-align: right;\n    }\n</style>\n<table border=\"1\" class=\"dataframe\">\n  <thead>\n    <tr style=\"text-align: right;\">\n      <th></th>\n      <th>Registered Charity Number</th>\n      <th>Registered Charity Name</th>\n      <th>Status</th>\n      <th>Also Known As</th>\n      <th>Primary Address</th>\n      <th>Governing Form</th>\n      <th>CHY Number</th>\n      <th>CRO Number</th>\n      <th>Country Established</th>\n      <th>Charitable Purpose</th>\n      <th>Charitable Objects</th>\n      <th>Unnamed: 11</th>\n    </tr>\n  </thead>\n  <tbody>\n    <tr>\n      <th>0</th>\n      <td>20000011</td>\n      <td>Linden Convalescent Home</td>\n      <td>Deregistered S40 by Revenue</td>\n      <td>Linden Convalescent Home</td>\n      <td>Linden Conv Home, Stillorgan, Co. Dublin, Ireland</td>\n      <td>Other</td>\n      <td>4</td>\n      <td>NaN</td>\n      <td>Ireland</td>\n      <td>Advancement of religion</td>\n      <td>NaN</td>\n      <td>NaN</td>\n    </tr>\n  </tbody>\n</table>\n</div>"
     },
     "metadata": {},
     "execution_count": 5
    }
   ],
   "source": [
    "public_registry = pd.read_csv(\"../Charity_Data/public-register-15012021.csv\")\n",
    "public_registry.head(1)"
   ]
  },
  {
   "cell_type": "code",
   "execution_count": null,
   "metadata": {},
   "outputs": [],
   "source": []
  }
 ],
 "metadata": {
  "kernelspec": {
   "display_name": "Python 3",
   "language": "python",
   "name": "python3"
  },
  "language_info": {
   "codemirror_mode": {
    "name": "ipython",
    "version": 3
   },
   "file_extension": ".py",
   "mimetype": "text/x-python",
   "name": "python",
   "nbconvert_exporter": "python",
   "pygments_lexer": "ipython3",
   "version": "3.7.7-final"
  }
 },
 "nbformat": 4,
 "nbformat_minor": 4
}